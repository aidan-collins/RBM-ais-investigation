{
  "nbformat": 4,
  "nbformat_minor": 0,
  "metadata": {
    "colab": {
      "name": "rbm-ais-tutorial.ipynb",
      "provenance": [],
      "machine_shape": "hm"
    },
    "kernelspec": {
      "name": "python3",
      "display_name": "Python 3"
    },
    "accelerator": "GPU"
  },
  "cells": [
    {
      "cell_type": "code",
      "metadata": {
        "colab": {
          "base_uri": "https://localhost:8080/"
        },
        "id": "AVbXWEyzH6MF",
        "outputId": "89ba6961-499d-4037-8d93-f2a36923c525"
      },
      "source": [
        "from torchvision import datasets, transforms\n",
        "import torch\n",
        "import numpy as np\n",
        "import torch.utils.data\n",
        "import torch.nn as nn\n",
        "import torch.nn.functional as F\n",
        "import torch.optim as optim\n",
        "from torch.autograd import Variable\n",
        "from tqdm import tqdm\n",
        "\n",
        "batch_size = 64\n",
        "train_loader = torch.utils.data.DataLoader(\n",
        "datasets.MNIST('./data',\n",
        "    train=True,\n",
        "    download = True,\n",
        "    transform = transforms.Compose(\n",
        "        [transforms.ToTensor()])\n",
        "     ),\n",
        "     batch_size=batch_size\n",
        ")\n",
        "\n",
        "test_dataset= datasets.MNIST('./data',\n",
        "    train=False,\n",
        "    transform=transforms.Compose(\n",
        "    [transforms.ToTensor()])\n",
        "    )\n",
        "\n",
        "new_test = []\n",
        "for i, (elem, y) in enumerate(test_dataset):\n",
        "  new_test.append(elem.view(-1,784).reshape(-1))\n",
        "new_test = torch.stack(new_test, dim=0).numpy()\n",
        "new_test.shape\n"
      ],
      "execution_count": 4,
      "outputs": [
        {
          "output_type": "execute_result",
          "data": {
            "text/plain": [
              "(10000, 784)"
            ]
          },
          "metadata": {
            "tags": []
          },
          "execution_count": 4
        }
      ]
    },
    {
      "cell_type": "code",
      "metadata": {
        "id": "DJxElUUMHrpn"
      },
      "source": [
        "#borrowed from https://github.com/odie2630463/Restricted-Boltzmann-Machines-in-pytorch/blob/master/RBM.ipynb\n",
        "class RBM(nn.Module):\n",
        "    def __init__(self,\n",
        "                 n_vis=784,\n",
        "                 n_hin=500,\n",
        "                 k=5):\n",
        "        super(RBM, self).__init__()\n",
        "        self.W = nn.Parameter(torch.randn(n_hin,n_vis)*1e-2)\n",
        "        self.v_bias = nn.Parameter(torch.zeros(n_vis))\n",
        "        self.h_bias = nn.Parameter(torch.zeros(n_hin))\n",
        "        self.k = k\n",
        "    \n",
        "    def sample_from_p(self,p):\n",
        "        return torch.relu(torch.sign(p - Variable(torch.rand(p.size()))))\n",
        "    \n",
        "    def v_to_h(self,v):\n",
        "        p_h = torch.sigmoid(F.linear(v,self.W,self.h_bias))\n",
        "        sample_h = self.sample_from_p(p_h)\n",
        "        return p_h,sample_h\n",
        "    \n",
        "    def h_to_v(self,h):\n",
        "        p_v = torch.sigmoid(F.linear(h,self.W.t(),self.v_bias))\n",
        "        sample_v = self.sample_from_p(p_v)\n",
        "        return p_v,sample_v\n",
        "        \n",
        "    def forward(self,v):\n",
        "        pre_h1,h1 = self.v_to_h(v)\n",
        "        \n",
        "        h_ = h1\n",
        "        for _ in range(self.k):\n",
        "            pre_v_,v_ = self.h_to_v(h_)\n",
        "            pre_h_,h_ = self.v_to_h(v_)\n",
        "        \n",
        "        return v,v_\n",
        "    \n",
        "    def free_energy(self,v):\n",
        "        vbias_term = v.mv(self.v_bias)\n",
        "        wx_b = F.linear(v,self.W,self.h_bias)\n",
        "        hidden_term = wx_b.exp().add(1).log().sum(1)\n",
        "        return (-hidden_term - vbias_term).mean()\n",
        "\n",
        "def train_rbm(input_dim, hidden_dim, lr, decay, epochs):\n",
        "  torch.set_default_tensor_type('torch.cuda.FloatTensor')\n",
        "  rbm = RBM(n_vis=input_dim, n_hin=hidden_dim)\n",
        "  rbm.cuda()\n",
        "  train_op = optim.SGD(rbm.parameters(), lr)\n",
        "  total = len(train_loader)\n",
        "  torch.backends.cudnn.benchmark = True\n",
        "  with tqdm(total=total) as pbar:\n",
        "    test_losses = []\n",
        "    for epoch in range(epochs):\n",
        "        print('epoch')\n",
        "        loss_ = []\n",
        "        for _, (data, y) in enumerate(train_loader):\n",
        "            data = Variable(data.view(-1,input_dim)).cuda()\n",
        "            sample_data = data.bernoulli()\n",
        "            \n",
        "            v,v1 = rbm(sample_data)\n",
        "            l2_reg = torch.tensor(0., requires_grad=True)\n",
        "            l2_lambda = decay\n",
        "            \n",
        "            \n",
        "            for name, param in rbm.named_parameters():\n",
        "              if 'W' in name:\n",
        "                l2_reg = l2_reg + torch.norm(param, 1)\n",
        "              reg_loss = l2_lambda * l2_reg\n",
        "            loss = rbm.free_energy(v) - rbm.free_energy(v1) + reg_loss\n",
        "            #loss_.append(loss.data[0])\n",
        "            loss_.append(loss.item())\n",
        "            train_op.zero_grad()\n",
        "            loss.backward()\n",
        "            train_op.step()\n",
        "            pbar.update(1)\n",
        "            if _ % 1000 == 0:\n",
        "              print(np.mean(loss_))\n",
        "              \n",
        "        \n",
        "    return rbm"
      ],
      "execution_count": 7,
      "outputs": []
    },
    {
      "cell_type": "code",
      "metadata": {
        "id": "DQa9qpgzHyuT"
      },
      "source": [
        "#borrowed from https://github.com/wmingwei/restricted-boltzmann-machine-deep-belief-network-deep-boltzmann-machine-in-pytorch/blob/master/RBM/ais.py\n",
        "from joblib import Parallel, delayed\n",
        "import multiprocessing\n",
        "\n",
        "def logp(rbm, v, step = 1000, M = 100, parallel = False, mean_logp = True):\n",
        "    \n",
        "    if mean_logp:\n",
        "        return -np.mean(free_energy(v, rbm.W.cpu().data.numpy().T, rbm.h_bias.cpu().data.numpy(), rbm.v_bias.cpu().data.numpy()))-ais(rbm, step = step, M = M, parallel = parallel)\n",
        "    else:\n",
        "        return -free_energy(v, rbm.W.cpu().data.numpy().T, rbm.h_bias.cpu().data.numpy(), rbm.v_bias.cpu().data.numpy())-ais(rbm, step = step, M = M, parallel = parallel)\n",
        "    \n",
        "def ais(rbm, step = 100, M = 100, parallel = False, seed = None):\n",
        "\n",
        "    W = rbm.W.cpu().data.numpy().T\n",
        "    v_bias = rbm.v_bias.cpu().data.numpy()\n",
        "    h_bias = rbm.h_bias.cpu().data.numpy()\n",
        "    \n",
        "    logZ0 = np.log((1+np.exp(v_bias))).sum() + np.log(1+np.exp(h_bias)).sum()\n",
        "    ratio = []\n",
        "    if parallel:\n",
        "        num_cores = multiprocessing.cpu_count()\n",
        "\n",
        "        results = Parallel(n_jobs=num_cores)(delayed(mcmc)(step = step, seed = seed, W = W, h_bias = h_bias, v_bias = v_bias) for i in range(M))\n",
        "\n",
        "\n",
        "        results = np.array(results).reshape(len(results), 1)\n",
        "        logZ = logZ0 + logmeanexp(results, axis = 0)\n",
        "    else:\n",
        "        for i in range(M):\n",
        "            ratio.append(mcmc(step, seed = seed,  W = W, h_bias = h_bias, v_bias = v_bias))\n",
        "\n",
        "        ratio = np.array(ratio).reshape(len(ratio),1)\n",
        "        logZ = logZ0 + logmeanexp(ratio, axis = 0)\n",
        "\n",
        "    return logZ\n",
        "\n",
        "def mcmc(step, seed, W, h_bias, v_bias):\n",
        "\n",
        "    np.random.seed(seed)\n",
        "\n",
        "    v = np.random.binomial(1, p=1/(1+np.exp(-v_bias))).reshape(1,-1)\n",
        "\n",
        "    logw = 0\n",
        "    for k in range(step):\n",
        "        logp_k = -free_energy(v, k*1.0/step*W, h_bias, v_bias)\n",
        "        logp_k1 = -free_energy(v, (k+1)*1.0/step*W, h_bias, v_bias)\n",
        "        logw += logp_k1 - logp_k\n",
        "\n",
        "        \n",
        "        p_h, h = v_to_h(v, (k+1)*1.0/step*W, h_bias)\n",
        "        p_v, v = h_to_v(h, (k+1)*1.0/step*W, v_bias)\n",
        "\n",
        "    return logw\n",
        "\n",
        "\n",
        "def v_to_h(v, W, h_bias):\n",
        "\n",
        "    activation = np.clip(np.matmul(v,W) + h_bias,-80,80)\n",
        "    p_h = 1/(1+np.exp(-activation))\n",
        "    h = np.random.binomial(1, p=p_h)\n",
        "\n",
        "    return p_h, h\n",
        "\n",
        "\n",
        "def h_to_v(h, W, v_bias):\n",
        "\n",
        "    activation = np.clip(np.matmul(h, W.T) + v_bias,-80,80)\n",
        "    p_v = 1/(1+np.exp(-activation))\n",
        "    v = np.random.binomial(1, p=p_v)\n",
        "    return p_v, v\n",
        "\n",
        "def free_energy(v, W, h_bias, v_bias):\n",
        "\n",
        "    Wv = np.clip(np.matmul(v,W) + h_bias,-80,80)\n",
        "    hidden = np.log(1+np.exp(Wv)).sum(1)\n",
        "    vbias = np.matmul(v, v_bias.T).reshape(hidden.shape)\n",
        "    return -hidden-vbias\n",
        "\n",
        "\n",
        "def logmeanexp(x, axis=None):\n",
        "    \n",
        "    x = np.asmatrix(x)\n",
        "    if not axis:\n",
        "        n = len(x)\n",
        "    else:\n",
        "        n = x.shape[axis]\n",
        "    \n",
        "    x_max = x.max(axis)\n",
        "    return (x_max + np.log(np.exp(x-x_max).sum(axis)) - np.log(n)).A\n",
        "\n"
      ],
      "execution_count": 9,
      "outputs": []
    },
    {
      "cell_type": "code",
      "metadata": {
        "colab": {
          "base_uri": "https://localhost:8080/",
          "height": 1000
        },
        "id": "PRdbBSJqDLmR",
        "outputId": "32d4efb7-6cef-47fe-ff26-e5b5f5ff12d2"
      },
      "source": [
        "#lets plot the ais on the test set over a range models trained for different numbers of epochs (10 models, epochs: 1-10)\n",
        "import matplotlib.pyplot as plt\n",
        "test_data = new_test\n",
        "log_p_tests = []\n",
        "hidden_sizes = np.linspace(100, 2000, 8)\n",
        "for i in range(hidden_sizes.size):\n",
        "  rbm = train_rbm(784, int(hidden_sizes[i]), .01, .01, 4)\n",
        "  logp_result = logp(rbm, test_data, step = 100, M = 100, parallel = True, mean_logp = True)\n",
        "  log_p_tests.append(logp_result)\n",
        "  del rbm\n",
        "  torch.cuda.empty_cache()\n",
        "\n",
        "log_array = np.asarray(log_p_tests).reshape(-1)\n",
        "plt.plot(log_array)\n",
        "#the ais seems to increase as expected with further training."
      ],
      "execution_count": 19,
      "outputs": [
        {
          "output_type": "stream",
          "text": [
            "  1%|          | 10/938 [00:00<00:09, 97.41it/s]"
          ],
          "name": "stderr"
        },
        {
          "output_type": "stream",
          "text": [
            "epoch\n",
            "7.37829065322876\n"
          ],
          "name": "stdout"
        },
        {
          "output_type": "stream",
          "text": [
            "956it [00:09, 97.32it/s]"
          ],
          "name": "stderr"
        },
        {
          "output_type": "stream",
          "text": [
            "epoch\n",
            "-13.971565246582031\n"
          ],
          "name": "stdout"
        },
        {
          "output_type": "stream",
          "text": [
            "1891it [00:19, 99.40it/s]"
          ],
          "name": "stderr"
        },
        {
          "output_type": "stream",
          "text": [
            "epoch\n",
            "-12.538549423217773\n"
          ],
          "name": "stdout"
        },
        {
          "output_type": "stream",
          "text": [
            "2828it [00:28, 97.90it/s]"
          ],
          "name": "stderr"
        },
        {
          "output_type": "stream",
          "text": [
            "epoch\n",
            "-11.977149963378906\n"
          ],
          "name": "stdout"
        },
        {
          "output_type": "stream",
          "text": [
            "3752it [00:38, 97.79it/s]\n",
            "  1%|          | 10/938 [00:00<00:10, 90.44it/s]"
          ],
          "name": "stderr"
        },
        {
          "output_type": "stream",
          "text": [
            "epoch\n",
            "26.182172775268555\n"
          ],
          "name": "stdout"
        },
        {
          "output_type": "stream",
          "text": [
            "954it [00:09, 94.88it/s]"
          ],
          "name": "stderr"
        },
        {
          "output_type": "stream",
          "text": [
            "epoch\n",
            "-10.493099212646484\n"
          ],
          "name": "stdout"
        },
        {
          "output_type": "stream",
          "text": [
            "1889it [00:19, 98.87it/s]"
          ],
          "name": "stderr"
        },
        {
          "output_type": "stream",
          "text": [
            "epoch\n",
            "-7.766204833984375\n"
          ],
          "name": "stdout"
        },
        {
          "output_type": "stream",
          "text": [
            "2826it [00:29, 99.30it/s]"
          ],
          "name": "stderr"
        },
        {
          "output_type": "stream",
          "text": [
            "epoch\n",
            "-5.660499572753906\n"
          ],
          "name": "stdout"
        },
        {
          "output_type": "stream",
          "text": [
            "3752it [00:38, 97.21it/s]\n",
            "  1%|          | 10/938 [00:00<00:09, 97.62it/s]"
          ],
          "name": "stderr"
        },
        {
          "output_type": "stream",
          "text": [
            "epoch\n",
            "44.08791732788086\n"
          ],
          "name": "stdout"
        },
        {
          "output_type": "stream",
          "text": [
            "948it [00:09, 96.97it/s]                         "
          ],
          "name": "stderr"
        },
        {
          "output_type": "stream",
          "text": [
            "epoch\n",
            "-4.192356109619141\n"
          ],
          "name": "stdout"
        },
        {
          "output_type": "stream",
          "text": [
            "1886it [00:19, 97.39it/s]"
          ],
          "name": "stderr"
        },
        {
          "output_type": "stream",
          "text": [
            "epoch\n",
            "-5.342739105224609\n"
          ],
          "name": "stdout"
        },
        {
          "output_type": "stream",
          "text": [
            "2824it [00:29, 97.46it/s]"
          ],
          "name": "stderr"
        },
        {
          "output_type": "stream",
          "text": [
            "epoch\n",
            "-1.8393669128417969\n"
          ],
          "name": "stdout"
        },
        {
          "output_type": "stream",
          "text": [
            "3752it [00:38, 96.70it/s]\n",
            "  1%|          | 10/938 [00:00<00:09, 95.43it/s]"
          ],
          "name": "stderr"
        },
        {
          "output_type": "stream",
          "text": [
            "epoch\n",
            "62.92298126220703\n"
          ],
          "name": "stdout"
        },
        {
          "output_type": "stream",
          "text": [
            "951it [00:10, 93.77it/s]"
          ],
          "name": "stderr"
        },
        {
          "output_type": "stream",
          "text": [
            "epoch\n",
            "5.169757843017578\n"
          ],
          "name": "stdout"
        },
        {
          "output_type": "stream",
          "text": [
            "1891it [00:19, 95.87it/s]"
          ],
          "name": "stderr"
        },
        {
          "output_type": "stream",
          "text": [
            "epoch\n",
            "-0.3443870544433594\n"
          ],
          "name": "stdout"
        },
        {
          "output_type": "stream",
          "text": [
            "2824it [00:29, 95.70it/s]"
          ],
          "name": "stderr"
        },
        {
          "output_type": "stream",
          "text": [
            "epoch\n",
            "19.4481201171875\n"
          ],
          "name": "stdout"
        },
        {
          "output_type": "stream",
          "text": [
            "3752it [00:39, 95.57it/s]\n",
            "  1%|          | 10/938 [00:00<00:10, 92.61it/s]"
          ],
          "name": "stderr"
        },
        {
          "output_type": "stream",
          "text": [
            "epoch\n",
            "87.84007263183594\n"
          ],
          "name": "stdout"
        },
        {
          "output_type": "stream",
          "text": [
            "953it [00:09, 95.78it/s]"
          ],
          "name": "stderr"
        },
        {
          "output_type": "stream",
          "text": [
            "epoch\n",
            "13.60416030883789\n"
          ],
          "name": "stdout"
        },
        {
          "output_type": "stream",
          "text": [
            "1893it [00:19, 94.98it/s]"
          ],
          "name": "stderr"
        },
        {
          "output_type": "stream",
          "text": [
            "epoch\n",
            "19.599163055419922\n"
          ],
          "name": "stdout"
        },
        {
          "output_type": "stream",
          "text": [
            "2833it [00:29, 96.70it/s]"
          ],
          "name": "stderr"
        },
        {
          "output_type": "stream",
          "text": [
            "epoch\n",
            "6.550453186035156\n"
          ],
          "name": "stdout"
        },
        {
          "output_type": "stream",
          "text": [
            "3752it [00:39, 95.99it/s]\n",
            "  1%|          | 9/938 [00:00<00:10, 86.69it/s]"
          ],
          "name": "stderr"
        },
        {
          "output_type": "stream",
          "text": [
            "epoch\n",
            "101.13887023925781\n"
          ],
          "name": "stdout"
        },
        {
          "output_type": "stream",
          "text": [
            "949it [00:09, 97.33it/s]"
          ],
          "name": "stderr"
        },
        {
          "output_type": "stream",
          "text": [
            "epoch\n",
            "15.301887512207031\n"
          ],
          "name": "stdout"
        },
        {
          "output_type": "stream",
          "text": [
            "1886it [00:19, 100.33it/s]"
          ],
          "name": "stderr"
        },
        {
          "output_type": "stream",
          "text": [
            "epoch\n",
            "8.887470245361328\n"
          ],
          "name": "stdout"
        },
        {
          "output_type": "stream",
          "text": [
            "2832it [00:28, 97.27it/s]"
          ],
          "name": "stderr"
        },
        {
          "output_type": "stream",
          "text": [
            "epoch\n",
            "29.412986755371094\n"
          ],
          "name": "stdout"
        },
        {
          "output_type": "stream",
          "text": [
            "3752it [00:38, 97.97it/s]\n",
            "  1%|          | 9/938 [00:00<00:11, 82.62it/s]"
          ],
          "name": "stderr"
        },
        {
          "output_type": "stream",
          "text": [
            "epoch\n",
            "125.18467712402344\n"
          ],
          "name": "stdout"
        },
        {
          "output_type": "stream",
          "text": [
            "949it [00:09, 96.53it/s]"
          ],
          "name": "stderr"
        },
        {
          "output_type": "stream",
          "text": [
            "epoch\n",
            "24.03795623779297\n"
          ],
          "name": "stdout"
        },
        {
          "output_type": "stream",
          "text": [
            "1891it [00:19, 96.29it/s]"
          ],
          "name": "stderr"
        },
        {
          "output_type": "stream",
          "text": [
            "epoch\n",
            "19.74658203125\n"
          ],
          "name": "stdout"
        },
        {
          "output_type": "stream",
          "text": [
            "2825it [00:29, 96.45it/s]"
          ],
          "name": "stderr"
        },
        {
          "output_type": "stream",
          "text": [
            "epoch\n",
            "27.885791778564453\n"
          ],
          "name": "stdout"
        },
        {
          "output_type": "stream",
          "text": [
            "3752it [00:39, 96.15it/s]\n",
            "  1%|          | 9/938 [00:00<00:10, 88.44it/s]"
          ],
          "name": "stderr"
        },
        {
          "output_type": "stream",
          "text": [
            "epoch\n",
            "137.6641845703125\n"
          ],
          "name": "stdout"
        },
        {
          "output_type": "stream",
          "text": [
            "955it [00:09, 97.34it/s]"
          ],
          "name": "stderr"
        },
        {
          "output_type": "stream",
          "text": [
            "epoch\n",
            "33.60738754272461\n"
          ],
          "name": "stdout"
        },
        {
          "output_type": "stream",
          "text": [
            "1888it [00:19, 98.13it/s]"
          ],
          "name": "stderr"
        },
        {
          "output_type": "stream",
          "text": [
            "epoch\n",
            "54.79983901977539\n"
          ],
          "name": "stdout"
        },
        {
          "output_type": "stream",
          "text": [
            "2825it [00:29, 97.92it/s]"
          ],
          "name": "stderr"
        },
        {
          "output_type": "stream",
          "text": [
            "epoch\n",
            "53.30837631225586\n"
          ],
          "name": "stdout"
        },
        {
          "output_type": "stream",
          "text": [
            "3752it [00:38, 97.06it/s]\n"
          ],
          "name": "stderr"
        },
        {
          "output_type": "execute_result",
          "data": {
            "text/plain": [
              "[<matplotlib.lines.Line2D at 0x7f6fd2e440f0>]"
            ]
          },
          "metadata": {
            "tags": []
          },
          "execution_count": 19
        },
        {
          "output_type": "display_data",
          "data": {
            "image/png": "[encoded data removed]",
            "text/plain": [
              "<Figure size 432x288 with 1 Axes>"
            ]
          },
          "metadata": {
            "tags": [],
            "needs_background": "light"
          }
        }
      ]
    },
    {
      "cell_type": "code",
      "metadata": {
        "colab": {
          "base_uri": "https://localhost:8080/"
        },
        "id": "H2GbZocvLer-",
        "outputId": "b02d3364-9970-42ed-b85d-6f9ad5cdaed7"
      },
      "source": [
        "for i in range(10):\n",
        "  print(i)"
      ],
      "execution_count": 15,
      "outputs": [
        {
          "output_type": "stream",
          "text": [
            "0\n",
            "1\n",
            "2\n",
            "3\n",
            "4\n",
            "5\n",
            "6\n",
            "7\n",
            "8\n",
            "9\n"
          ],
          "name": "stdout"
        }
      ]
    },
    {
      "cell_type": "code",
      "metadata": {
        "id": "C0Aoq4f5LCss"
      },
      "source": [
        ""
      ],
      "execution_count": null,
      "outputs": []
    }
  ]
}