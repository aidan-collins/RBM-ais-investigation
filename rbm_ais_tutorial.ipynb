{
  "nbformat": 4,
  "nbformat_minor": 0,
  "metadata": {
    "colab": {
      "name": "rbm-ais-tutorial.ipynb",
      "provenance": [],
      "machine_shape": "hm"
    },
    "kernelspec": {
      "name": "python3",
      "display_name": "Python 3"
    },
    "accelerator": "GPU"
  },
  "cells": [
    {
      "cell_type": "code",
      "metadata": {
        "colab": {
          "base_uri": "https://localhost:8080/"
        },
        "id": "AVbXWEyzH6MF",
        "outputId": "89ba6961-499d-4037-8d93-f2a36923c525"
      },
      "source": [
        "from torchvision import datasets, transforms\n",
        "import torch\n",
        "import numpy as np\n",
        "import torch.utils.data\n",
        "import torch.nn as nn\n",
        "import torch.nn.functional as F\n",
        "import torch.optim as optim\n",
        "from torch.autograd import Variable\n",
        "from tqdm import tqdm\n",
        "\n",
        "batch_size = 64\n",
        "train_loader = torch.utils.data.DataLoader(\n",
        "datasets.MNIST('./data',\n",
        "    train=True,\n",
        "    download = True,\n",
        "    transform = transforms.Compose(\n",
        "        [transforms.ToTensor()])\n",
        "     ),\n",
        "     batch_size=batch_size\n",
        ")\n",
        "\n",
        "test_dataset= datasets.MNIST('./data',\n",
        "    train=False,\n",
        "    transform=transforms.Compose(\n",
        "    [transforms.ToTensor()])\n",
        "    )\n",
        "\n",
        "new_test = []\n",
        "for i, (elem, y) in enumerate(test_dataset):\n",
        "  new_test.append(elem.view(-1,784).reshape(-1))\n",
        "new_test = torch.stack(new_test, dim=0).numpy()\n",
        "new_test.shape\n"
      ],
      "execution_count": 4,
      "outputs": [
        {
          "output_type": "execute_result",
          "data": {
            "text/plain": [
              "(10000, 784)"
            ]
          },
          "metadata": {
            "tags": []
          },
          "execution_count": 4
        }
      ]
    },
    {
      "cell_type": "code",
      "metadata": {
        "id": "DJxElUUMHrpn"
      },
      "source": [
        "#borrowed from https://github.com/odie2630463/Restricted-Boltzmann-Machines-in-pytorch/blob/master/RBM.ipynb\n",
        "class RBM(nn.Module):\n",
        "    def __init__(self,\n",
        "                 n_vis=784,\n",
        "                 n_hin=500,\n",
        "                 k=5):\n",
        "        super(RBM, self).__init__()\n",
        "        self.W = nn.Parameter(torch.randn(n_hin,n_vis)*1e-2)\n",
        "        self.v_bias = nn.Parameter(torch.zeros(n_vis))\n",
        "        self.h_bias = nn.Parameter(torch.zeros(n_hin))\n",
        "        self.k = k\n",
        "    \n",
        "    def sample_from_p(self,p):\n",
        "        return torch.relu(torch.sign(p - Variable(torch.rand(p.size()))))\n",
        "    \n",
        "    def v_to_h(self,v):\n",
        "        p_h = torch.sigmoid(F.linear(v,self.W,self.h_bias))\n",
        "        sample_h = self.sample_from_p(p_h)\n",
        "        return p_h,sample_h\n",
        "    \n",
        "    def h_to_v(self,h):\n",
        "        p_v = torch.sigmoid(F.linear(h,self.W.t(),self.v_bias))\n",
        "        sample_v = self.sample_from_p(p_v)\n",
        "        return p_v,sample_v\n",
        "        \n",
        "    def forward(self,v):\n",
        "        pre_h1,h1 = self.v_to_h(v)\n",
        "        \n",
        "        h_ = h1\n",
        "        for _ in range(self.k):\n",
        "            pre_v_,v_ = self.h_to_v(h_)\n",
        "            pre_h_,h_ = self.v_to_h(v_)\n",
        "        \n",
        "        return v,v_\n",
        "    \n",
        "    def free_energy(self,v):\n",
        "        vbias_term = v.mv(self.v_bias)\n",
        "        wx_b = F.linear(v,self.W,self.h_bias)\n",
        "        hidden_term = wx_b.exp().add(1).log().sum(1)\n",
        "        return (-hidden_term - vbias_term).mean()\n",
        "\n",
        "def train_rbm(input_dim, hidden_dim, lr, decay, epochs):\n",
        "  torch.set_default_tensor_type('torch.cuda.FloatTensor')\n",
        "  rbm = RBM(n_vis=input_dim, n_hin=hidden_dim)\n",
        "  rbm.cuda()\n",
        "  train_op = optim.SGD(rbm.parameters(), lr)\n",
        "  total = len(train_loader)\n",
        "  torch.backends.cudnn.benchmark = True\n",
        "  with tqdm(total=total) as pbar:\n",
        "    test_losses = []\n",
        "    for epoch in range(epochs):\n",
        "        print('epoch')\n",
        "        loss_ = []\n",
        "        for _, (data, y) in enumerate(train_loader):\n",
        "            data = Variable(data.view(-1,input_dim)).cuda()\n",
        "            sample_data = data.bernoulli()\n",
        "            \n",
        "            v,v1 = rbm(sample_data)\n",
        "            l2_reg = torch.tensor(0., requires_grad=True)\n",
        "            l2_lambda = decay\n",
        "            \n",
        "            \n",
        "            for name, param in rbm.named_parameters():\n",
        "              if 'W' in name:\n",
        "                l2_reg = l2_reg + torch.norm(param, 1)\n",
        "              reg_loss = l2_lambda * l2_reg\n",
        "            loss = rbm.free_energy(v) - rbm.free_energy(v1) + reg_loss\n",
        "            #loss_.append(loss.data[0])\n",
        "            loss_.append(loss.item())\n",
        "            train_op.zero_grad()\n",
        "            loss.backward()\n",
        "            train_op.step()\n",
        "            pbar.update(1)\n",
        "            if _ % 1000 == 0:\n",
        "              print(np.mean(loss_))\n",
        "              \n",
        "        \n",
        "    return rbm"
      ],
      "execution_count": 7,
      "outputs": []
    },
    {
      "cell_type": "code",
      "metadata": {
        "id": "DQa9qpgzHyuT"
      },
      "source": [
        "#borrowed from https://github.com/wmingwei/restricted-boltzmann-machine-deep-belief-network-deep-boltzmann-machine-in-pytorch/blob/master/RBM/ais.py\n",
        "from joblib import Parallel, delayed\n",
        "import multiprocessing\n",
        "\n",
        "def logp(rbm, v, step = 1000, M = 100, parallel = False, mean_logp = True):\n",
        "    \n",
        "    if mean_logp:\n",
        "        return -np.mean(free_energy(v, rbm.W.cpu().data.numpy().T, rbm.h_bias.cpu().data.numpy(), rbm.v_bias.cpu().data.numpy()))-ais(rbm, step = step, M = M, parallel = parallel)\n",
        "    else:\n",
        "        return -free_energy(v, rbm.W.cpu().data.numpy().T, rbm.h_bias.cpu().data.numpy(), rbm.v_bias.cpu().data.numpy())-ais(rbm, step = step, M = M, parallel = parallel)\n",
        "    \n",
        "def ais(rbm, step = 100, M = 100, parallel = False, seed = None):\n",
        "\n",
        "    W = rbm.W.cpu().data.numpy().T\n",
        "    v_bias = rbm.v_bias.cpu().data.numpy()\n",
        "    h_bias = rbm.h_bias.cpu().data.numpy()\n",
        "    \n",
        "    logZ0 = np.log((1+np.exp(v_bias))).sum() + np.log(1+np.exp(h_bias)).sum()\n",
        "    ratio = []\n",
        "    if parallel:\n",
        "        num_cores = multiprocessing.cpu_count()\n",
        "\n",
        "        results = Parallel(n_jobs=num_cores)(delayed(mcmc)(step = step, seed = seed, W = W, h_bias = h_bias, v_bias = v_bias) for i in range(M))\n",
        "\n",
        "\n",
        "        results = np.array(results).reshape(len(results), 1)\n",
        "        logZ = logZ0 + logmeanexp(results, axis = 0)\n",
        "    else:\n",
        "        for i in range(M):\n",
        "            ratio.append(mcmc(step, seed = seed,  W = W, h_bias = h_bias, v_bias = v_bias))\n",
        "\n",
        "        ratio = np.array(ratio).reshape(len(ratio),1)\n",
        "        logZ = logZ0 + logmeanexp(ratio, axis = 0)\n",
        "\n",
        "    return logZ\n",
        "\n",
        "def mcmc(step, seed, W, h_bias, v_bias):\n",
        "\n",
        "    np.random.seed(seed)\n",
        "\n",
        "    v = np.random.binomial(1, p=1/(1+np.exp(-v_bias))).reshape(1,-1)\n",
        "\n",
        "    logw = 0\n",
        "    for k in range(step):\n",
        "        logp_k = -free_energy(v, k*1.0/step*W, h_bias, v_bias)\n",
        "        logp_k1 = -free_energy(v, (k+1)*1.0/step*W, h_bias, v_bias)\n",
        "        logw += logp_k1 - logp_k\n",
        "\n",
        "        \n",
        "        p_h, h = v_to_h(v, (k+1)*1.0/step*W, h_bias)\n",
        "        p_v, v = h_to_v(h, (k+1)*1.0/step*W, v_bias)\n",
        "\n",
        "    return logw\n",
        "\n",
        "\n",
        "def v_to_h(v, W, h_bias):\n",
        "\n",
        "    activation = np.clip(np.matmul(v,W) + h_bias,-80,80)\n",
        "    p_h = 1/(1+np.exp(-activation))\n",
        "    h = np.random.binomial(1, p=p_h)\n",
        "\n",
        "    return p_h, h\n",
        "\n",
        "\n",
        "def h_to_v(h, W, v_bias):\n",
        "\n",
        "    activation = np.clip(np.matmul(h, W.T) + v_bias,-80,80)\n",
        "    p_v = 1/(1+np.exp(-activation))\n",
        "    v = np.random.binomial(1, p=p_v)\n",
        "    return p_v, v\n",
        "\n",
        "def free_energy(v, W, h_bias, v_bias):\n",
        "\n",
        "    Wv = np.clip(np.matmul(v,W) + h_bias,-80,80)\n",
        "    hidden = np.log(1+np.exp(Wv)).sum(1)\n",
        "    vbias = np.matmul(v, v_bias.T).reshape(hidden.shape)\n",
        "    return -hidden-vbias\n",
        "\n",
        "\n",
        "def logmeanexp(x, axis=None):\n",
        "    \n",
        "    x = np.asmatrix(x)\n",
        "    if not axis:\n",
        "        n = len(x)\n",
        "    else:\n",
        "        n = x.shape[axis]\n",
        "    \n",
        "    x_max = x.max(axis)\n",
        "    return (x_max + np.log(np.exp(x-x_max).sum(axis)) - np.log(n)).A\n",
        "\n"
      ],
      "execution_count": 9,
      "outputs": []
    },
    {
      "cell_type": "code",
      "metadata": {
        "colab": {
          "base_uri": "https://localhost:8080/",
          "height": 426
        },
        "id": "PRdbBSJqDLmR",
        "outputId": "532f4463-b9de-4d92-aa0e-72b0f7bb01fa"
      },
      "source": [
        "#lets plot the ais on the test set over a range models trained for different numbers of epochs (10 models, epochs: 1-10)\n",
        "import matplotlib.pyplot as plt\n",
        "test_data = new_test\n",
        "log_p_tests = []\n",
        "for i in range(10):\n",
        "  rbm = train_rbm(784, 500, .01, .01, int(i+1))\n",
        "  logp_result = logp(rbm, test_data, step = 100, M = 100, parallel = True, mean_logp = True)\n",
        "  log_p_tests.append(logp_result)\n",
        "  del rbm\n",
        "  torch.cuda.empty_cache()\n",
        "\n",
        "log_array = np.asarray(log_p_tests).reshape(-1)\n",
        "plt.plot(log_array)\n",
        "#the ais seems to increase as expected with further training."
      ],
      "execution_count": 10,
      "outputs": [
        {
          "output_type": "stream",
          "text": [
            "  1%|          | 9/938 [00:00<00:10, 85.68it/s]"
          ],
          "name": "stderr"
        },
        {
          "output_type": "stream",
          "text": [
            "epoch\n",
            "37.47013854980469\n"
          ],
          "name": "stdout"
        },
        {
          "output_type": "stream",
          "text": [
            " 23%|██▎       | 219/938 [00:02<00:07, 92.97it/s]\n"
          ],
          "name": "stderr"
        },
        {
          "output_type": "error",
          "ename": "KeyboardInterrupt",
          "evalue": "ignored",
          "traceback": [
            "\u001b[0;31m---------------------------------------------------------------------------\u001b[0m",
            "\u001b[0;31mKeyboardInterrupt\u001b[0m                         Traceback (most recent call last)",
            "\u001b[0;32m<ipython-input-10-3397a7ba7867>\u001b[0m in \u001b[0;36m<module>\u001b[0;34m()\u001b[0m\n\u001b[1;32m      4\u001b[0m \u001b[0mlog_p_tests\u001b[0m \u001b[0;34m=\u001b[0m \u001b[0;34m[\u001b[0m\u001b[0;34m]\u001b[0m\u001b[0;34m\u001b[0m\u001b[0;34m\u001b[0m\u001b[0m\n\u001b[1;32m      5\u001b[0m \u001b[0;32mfor\u001b[0m \u001b[0mi\u001b[0m \u001b[0;32min\u001b[0m \u001b[0mrange\u001b[0m\u001b[0;34m(\u001b[0m\u001b[0;36m10\u001b[0m\u001b[0;34m)\u001b[0m\u001b[0;34m:\u001b[0m\u001b[0;34m\u001b[0m\u001b[0;34m\u001b[0m\u001b[0m\n\u001b[0;32m----> 6\u001b[0;31m   \u001b[0mrbm\u001b[0m \u001b[0;34m=\u001b[0m \u001b[0mtrain_rbm\u001b[0m\u001b[0;34m(\u001b[0m\u001b[0;36m784\u001b[0m\u001b[0;34m,\u001b[0m \u001b[0;36m500\u001b[0m\u001b[0;34m,\u001b[0m \u001b[0;36m.01\u001b[0m\u001b[0;34m,\u001b[0m \u001b[0;36m.01\u001b[0m\u001b[0;34m,\u001b[0m \u001b[0mint\u001b[0m\u001b[0;34m(\u001b[0m\u001b[0mi\u001b[0m\u001b[0;34m+\u001b[0m\u001b[0;36m1\u001b[0m\u001b[0;34m)\u001b[0m\u001b[0;34m)\u001b[0m\u001b[0;34m\u001b[0m\u001b[0;34m\u001b[0m\u001b[0m\n\u001b[0m\u001b[1;32m      7\u001b[0m   \u001b[0mlogp_result\u001b[0m \u001b[0;34m=\u001b[0m \u001b[0mlogp\u001b[0m\u001b[0;34m(\u001b[0m\u001b[0mrbm\u001b[0m\u001b[0;34m,\u001b[0m \u001b[0mtest_data\u001b[0m\u001b[0;34m,\u001b[0m \u001b[0mstep\u001b[0m \u001b[0;34m=\u001b[0m \u001b[0;36m100\u001b[0m\u001b[0;34m,\u001b[0m \u001b[0mM\u001b[0m \u001b[0;34m=\u001b[0m \u001b[0;36m100\u001b[0m\u001b[0;34m,\u001b[0m \u001b[0mparallel\u001b[0m \u001b[0;34m=\u001b[0m \u001b[0;32mTrue\u001b[0m\u001b[0;34m,\u001b[0m \u001b[0mmean_logp\u001b[0m \u001b[0;34m=\u001b[0m \u001b[0;32mTrue\u001b[0m\u001b[0;34m)\u001b[0m\u001b[0;34m\u001b[0m\u001b[0;34m\u001b[0m\u001b[0m\n\u001b[1;32m      8\u001b[0m   \u001b[0mlog_p_tests\u001b[0m\u001b[0;34m.\u001b[0m\u001b[0mappend\u001b[0m\u001b[0;34m(\u001b[0m\u001b[0mlogp_result\u001b[0m\u001b[0;34m)\u001b[0m\u001b[0;34m\u001b[0m\u001b[0;34m\u001b[0m\u001b[0m\n",
            "\u001b[0;32m<ipython-input-7-01b21b631b4c>\u001b[0m in \u001b[0;36mtrain_rbm\u001b[0;34m(input_dim, hidden_dim, lr, decay, epochs)\u001b[0m\n\u001b[1;32m     56\u001b[0m             \u001b[0msample_data\u001b[0m \u001b[0;34m=\u001b[0m \u001b[0mdata\u001b[0m\u001b[0;34m.\u001b[0m\u001b[0mbernoulli\u001b[0m\u001b[0;34m(\u001b[0m\u001b[0;34m)\u001b[0m\u001b[0;34m\u001b[0m\u001b[0;34m\u001b[0m\u001b[0m\n\u001b[1;32m     57\u001b[0m \u001b[0;34m\u001b[0m\u001b[0m\n\u001b[0;32m---> 58\u001b[0;31m             \u001b[0mv\u001b[0m\u001b[0;34m,\u001b[0m\u001b[0mv1\u001b[0m \u001b[0;34m=\u001b[0m \u001b[0mrbm\u001b[0m\u001b[0;34m(\u001b[0m\u001b[0msample_data\u001b[0m\u001b[0;34m)\u001b[0m\u001b[0;34m\u001b[0m\u001b[0;34m\u001b[0m\u001b[0m\n\u001b[0m\u001b[1;32m     59\u001b[0m             \u001b[0ml2_reg\u001b[0m \u001b[0;34m=\u001b[0m \u001b[0mtorch\u001b[0m\u001b[0;34m.\u001b[0m\u001b[0mtensor\u001b[0m\u001b[0;34m(\u001b[0m\u001b[0;36m0.\u001b[0m\u001b[0;34m,\u001b[0m \u001b[0mrequires_grad\u001b[0m\u001b[0;34m=\u001b[0m\u001b[0;32mTrue\u001b[0m\u001b[0;34m)\u001b[0m\u001b[0;34m\u001b[0m\u001b[0;34m\u001b[0m\u001b[0m\n\u001b[1;32m     60\u001b[0m             \u001b[0ml2_lambda\u001b[0m \u001b[0;34m=\u001b[0m \u001b[0mdecay\u001b[0m\u001b[0;34m\u001b[0m\u001b[0;34m\u001b[0m\u001b[0m\n",
            "\u001b[0;32m/usr/local/lib/python3.6/dist-packages/torch/nn/modules/module.py\u001b[0m in \u001b[0;36m_call_impl\u001b[0;34m(self, *input, **kwargs)\u001b[0m\n\u001b[1;32m    725\u001b[0m             \u001b[0mresult\u001b[0m \u001b[0;34m=\u001b[0m \u001b[0mself\u001b[0m\u001b[0;34m.\u001b[0m\u001b[0m_slow_forward\u001b[0m\u001b[0;34m(\u001b[0m\u001b[0;34m*\u001b[0m\u001b[0minput\u001b[0m\u001b[0;34m,\u001b[0m \u001b[0;34m**\u001b[0m\u001b[0mkwargs\u001b[0m\u001b[0;34m)\u001b[0m\u001b[0;34m\u001b[0m\u001b[0;34m\u001b[0m\u001b[0m\n\u001b[1;32m    726\u001b[0m         \u001b[0;32melse\u001b[0m\u001b[0;34m:\u001b[0m\u001b[0;34m\u001b[0m\u001b[0;34m\u001b[0m\u001b[0m\n\u001b[0;32m--> 727\u001b[0;31m             \u001b[0mresult\u001b[0m \u001b[0;34m=\u001b[0m \u001b[0mself\u001b[0m\u001b[0;34m.\u001b[0m\u001b[0mforward\u001b[0m\u001b[0;34m(\u001b[0m\u001b[0;34m*\u001b[0m\u001b[0minput\u001b[0m\u001b[0;34m,\u001b[0m \u001b[0;34m**\u001b[0m\u001b[0mkwargs\u001b[0m\u001b[0;34m)\u001b[0m\u001b[0;34m\u001b[0m\u001b[0;34m\u001b[0m\u001b[0m\n\u001b[0m\u001b[1;32m    728\u001b[0m         for hook in itertools.chain(\n\u001b[1;32m    729\u001b[0m                 \u001b[0m_global_forward_hooks\u001b[0m\u001b[0;34m.\u001b[0m\u001b[0mvalues\u001b[0m\u001b[0;34m(\u001b[0m\u001b[0;34m)\u001b[0m\u001b[0;34m,\u001b[0m\u001b[0;34m\u001b[0m\u001b[0;34m\u001b[0m\u001b[0m\n",
            "\u001b[0;32m<ipython-input-7-01b21b631b4c>\u001b[0m in \u001b[0;36mforward\u001b[0;34m(self, v)\u001b[0m\n\u001b[1;32m     29\u001b[0m         \u001b[0mh_\u001b[0m \u001b[0;34m=\u001b[0m \u001b[0mh1\u001b[0m\u001b[0;34m\u001b[0m\u001b[0;34m\u001b[0m\u001b[0m\n\u001b[1;32m     30\u001b[0m         \u001b[0;32mfor\u001b[0m \u001b[0m_\u001b[0m \u001b[0;32min\u001b[0m \u001b[0mrange\u001b[0m\u001b[0;34m(\u001b[0m\u001b[0mself\u001b[0m\u001b[0;34m.\u001b[0m\u001b[0mk\u001b[0m\u001b[0;34m)\u001b[0m\u001b[0;34m:\u001b[0m\u001b[0;34m\u001b[0m\u001b[0;34m\u001b[0m\u001b[0m\n\u001b[0;32m---> 31\u001b[0;31m             \u001b[0mpre_v_\u001b[0m\u001b[0;34m,\u001b[0m\u001b[0mv_\u001b[0m \u001b[0;34m=\u001b[0m \u001b[0mself\u001b[0m\u001b[0;34m.\u001b[0m\u001b[0mh_to_v\u001b[0m\u001b[0;34m(\u001b[0m\u001b[0mh_\u001b[0m\u001b[0;34m)\u001b[0m\u001b[0;34m\u001b[0m\u001b[0;34m\u001b[0m\u001b[0m\n\u001b[0m\u001b[1;32m     32\u001b[0m             \u001b[0mpre_h_\u001b[0m\u001b[0;34m,\u001b[0m\u001b[0mh_\u001b[0m \u001b[0;34m=\u001b[0m \u001b[0mself\u001b[0m\u001b[0;34m.\u001b[0m\u001b[0mv_to_h\u001b[0m\u001b[0;34m(\u001b[0m\u001b[0mv_\u001b[0m\u001b[0;34m)\u001b[0m\u001b[0;34m\u001b[0m\u001b[0;34m\u001b[0m\u001b[0m\n\u001b[1;32m     33\u001b[0m \u001b[0;34m\u001b[0m\u001b[0m\n",
            "\u001b[0;32m<ipython-input-7-01b21b631b4c>\u001b[0m in \u001b[0;36mh_to_v\u001b[0;34m(self, h)\u001b[0m\n\u001b[1;32m     20\u001b[0m \u001b[0;34m\u001b[0m\u001b[0m\n\u001b[1;32m     21\u001b[0m     \u001b[0;32mdef\u001b[0m \u001b[0mh_to_v\u001b[0m\u001b[0;34m(\u001b[0m\u001b[0mself\u001b[0m\u001b[0;34m,\u001b[0m\u001b[0mh\u001b[0m\u001b[0;34m)\u001b[0m\u001b[0;34m:\u001b[0m\u001b[0;34m\u001b[0m\u001b[0;34m\u001b[0m\u001b[0m\n\u001b[0;32m---> 22\u001b[0;31m         \u001b[0mp_v\u001b[0m \u001b[0;34m=\u001b[0m \u001b[0mtorch\u001b[0m\u001b[0;34m.\u001b[0m\u001b[0msigmoid\u001b[0m\u001b[0;34m(\u001b[0m\u001b[0mF\u001b[0m\u001b[0;34m.\u001b[0m\u001b[0mlinear\u001b[0m\u001b[0;34m(\u001b[0m\u001b[0mh\u001b[0m\u001b[0;34m,\u001b[0m\u001b[0mself\u001b[0m\u001b[0;34m.\u001b[0m\u001b[0mW\u001b[0m\u001b[0;34m.\u001b[0m\u001b[0mt\u001b[0m\u001b[0;34m(\u001b[0m\u001b[0;34m)\u001b[0m\u001b[0;34m,\u001b[0m\u001b[0mself\u001b[0m\u001b[0;34m.\u001b[0m\u001b[0mv_bias\u001b[0m\u001b[0;34m)\u001b[0m\u001b[0;34m)\u001b[0m\u001b[0;34m\u001b[0m\u001b[0;34m\u001b[0m\u001b[0m\n\u001b[0m\u001b[1;32m     23\u001b[0m         \u001b[0msample_v\u001b[0m \u001b[0;34m=\u001b[0m \u001b[0mself\u001b[0m\u001b[0;34m.\u001b[0m\u001b[0msample_from_p\u001b[0m\u001b[0;34m(\u001b[0m\u001b[0mp_v\u001b[0m\u001b[0;34m)\u001b[0m\u001b[0;34m\u001b[0m\u001b[0;34m\u001b[0m\u001b[0m\n\u001b[1;32m     24\u001b[0m         \u001b[0;32mreturn\u001b[0m \u001b[0mp_v\u001b[0m\u001b[0;34m,\u001b[0m\u001b[0msample_v\u001b[0m\u001b[0;34m\u001b[0m\u001b[0;34m\u001b[0m\u001b[0m\n",
            "\u001b[0;31mKeyboardInterrupt\u001b[0m: "
          ]
        }
      ]
    }
  ]
}